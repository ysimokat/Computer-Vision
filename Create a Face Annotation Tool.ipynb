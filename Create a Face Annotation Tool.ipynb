{
 "cells": [
  {
   "cell_type": "code",
   "execution_count": 1,
   "metadata": {},
   "outputs": [],
   "source": [
    "import cv2\n",
    "import math"
   ]
  },
  {
   "cell_type": "code",
   "execution_count": 2,
   "metadata": {},
   "outputs": [],
   "source": [
    "# Lists to store the points\n",
    "p1=[]\n",
    "p2=[]"
   ]
  },
  {
   "cell_type": "code",
   "execution_count": 5,
   "metadata": {},
   "outputs": [],
   "source": [
    "def drawCircle(action, x, y, flags, userdata):\n",
    "  # Referencing global variables \n",
    "    global p1,p2\n",
    "  # Action to be taken when left mouse button is pressed\n",
    "    if action==cv2.EVENT_LBUTTONDOWN:\n",
    "        p1=[(x,y)]  #first point top left \n",
    "\n",
    "    # Action to be taken when left mouse button is released\n",
    "    elif action==cv2.EVENT_LBUTTONUP:\n",
    "        p2=[(x,y)]  #2nd point button right\n",
    "        # Draw the rectangle\n",
    "        cv2.rectangle(source, p1[0],p2[0], (0,255,0),2, \n",
    "                    cv2.LINE_AA)\n",
    "        cv2.imshow(\"Window\",source)\n",
    "        cut = source[p1[0][1]:p2[0][1],p1[0][0]:p2[0][0]]\n",
    "        cv2.imwrite('face.jpg',cut)"
   ]
  },
  {
   "cell_type": "code",
   "execution_count": 6,
   "metadata": {},
   "outputs": [],
   "source": [
    "source = cv2.imread(\"../data/images/sample.jpg\",1)\n",
    "# Make a dummy image, will be useful to clear the drawing\n",
    "dummy = source.copy()\n",
    "cv2.namedWindow(\"Window\")\n",
    "# highgui function called when mouse events occur\n",
    "cv2.setMouseCallback(\"Window\", drawCircle)\n",
    "k = 0\n",
    "# loop until escape character is pressed\n",
    "while k!=27 :\n",
    "\n",
    "    cv2.imshow(\"Window\", source)\n",
    "    cv2.putText(source,'''Choose center, and drag, \n",
    "                      Press ESC to exit and c to clear''' ,\n",
    "              (10,30), cv2.FONT_HERSHEY_SIMPLEX, \n",
    "              0.7,(255,255,255), 2 );\n",
    "    k = cv2.waitKey(0) & 0xFF\n",
    "    # Another way of cloning\n",
    "    if k==99:\n",
    "        source= dummy.copy()\n",
    "\n",
    "\n",
    "cv2.destroyAllWindows()"
   ]
  },
  {
   "cell_type": "markdown",
   "metadata": {},
   "source": [
    "<center><img src = \"https://www.learnopencv.com/wp-content/uploads/2017/12/opcv4face-w1-m6-highGUIMouse.png\"/></center>\n",
    "<center>Figure showing the output of the above program</center>"
   ]
  }
 ],
 "metadata": {
  "kernelspec": {
   "display_name": "Python 3 (ipykernel)",
   "language": "python",
   "name": "python3"
  },
  "language_info": {
   "codemirror_mode": {
    "name": "ipython",
    "version": 3
   },
   "file_extension": ".py",
   "mimetype": "text/x-python",
   "name": "python",
   "nbconvert_exporter": "python",
   "pygments_lexer": "ipython3",
   "version": "3.7.13"
  }
 },
 "nbformat": 4,
 "nbformat_minor": 2
}
